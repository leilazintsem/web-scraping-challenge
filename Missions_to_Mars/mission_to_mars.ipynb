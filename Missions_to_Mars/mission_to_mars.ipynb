{
 "cells": [
  {
   "cell_type": "code",
   "execution_count": 1,
   "source": [
    "#Import dependencies and setup\r\n",
    "from bs4 import BeautifulSoup\r\n",
    "from splinter import Browser\r\n",
    "import pandas as pd"
   ],
   "outputs": [],
   "metadata": {}
  },
  {
   "cell_type": "code",
   "execution_count": 2,
   "source": [
    "#Chrome driver set up\r\n",
    "\r\n",
    "executable_path = {\"executable_path\":\"driver\\chromedriver.exe\"}\r\n",
    "browser = Browser(\"chrome\", **executable_path, headless=False)"
   ],
   "outputs": [],
   "metadata": {}
  },
  {
   "cell_type": "code",
   "execution_count": 3,
   "source": [
    "#Connecting to NASA site\r\n",
    "url = \"https://redplanetscience.com\"\r\n",
    "browser.visit(url)"
   ],
   "outputs": [],
   "metadata": {}
  },
  {
   "cell_type": "code",
   "execution_count": null,
   "source": [],
   "outputs": [],
   "metadata": {}
  },
  {
   "cell_type": "code",
   "execution_count": 4,
   "source": [
    "# Parse Results HTML with BeautifulSoup\r\n",
    "\r\n",
    "html = browser.html\r\n",
    "news = BeautifulSoup(html, \"html.parser\")"
   ],
   "outputs": [],
   "metadata": {}
  },
  {
   "cell_type": "markdown",
   "source": [
    "### NASA Mars News"
   ],
   "metadata": {}
  },
  {
   "cell_type": "code",
   "execution_count": 5,
   "source": [
    "# let's get the news title and paragraph \r\n",
    "news_title = news.select_one('.col-md-8 .content_title').get_text()\r\n",
    "news_p = news.select_one('.col-md-8 .article_teaser_body').get_text()\r\n",
    "print(news_p)"
   ],
   "outputs": [
    {
     "output_type": "stream",
     "name": "stdout",
     "text": [
      "The agency's newest rover will use the first ground-penetrating radar instrument on the Martian surface to help search for signs of past microbial life. \n"
     ]
    }
   ],
   "metadata": {}
  },
  {
   "cell_type": "markdown",
   "source": [
    "### JPL Mars Space Images - Featured Image"
   ],
   "metadata": {}
  },
  {
   "cell_type": "code",
   "execution_count": 7,
   "source": [
    "# get the feature image\r\n",
    "url = \"https://spaceimages-mars.com\"\r\n",
    "browser.visit(url)\r\n",
    "\r\n",
    "html = browser.html\r\n",
    "images = BeautifulSoup(html, \"html.parser\")\r\n",
    "\r\n",
    "featured_image = url+\"/\"+ images.select_one('.headerimage')[\"src\"]\r\n",
    "print(featured_image)"
   ],
   "outputs": [
    {
     "output_type": "stream",
     "name": "stdout",
     "text": [
      "https://spaceimages-mars.com/image/featured/mars3.jpg\n"
     ]
    }
   ],
   "metadata": {}
  },
  {
   "cell_type": "markdown",
   "source": [
    "### Mars Facts"
   ],
   "metadata": {}
  },
  {
   "cell_type": "code",
   "execution_count": null,
   "source": [
    "#Use Pandas to convert the data to a HTML table string\r\n",
    "table_string = []\r\n",
    "url = \"https://galaxyfacts-mars.com\"\r\n",
    "df_list = pd.read_html(url)\r\n",
    "table= df_list\r\n",
    "for x in df_list:\r\n",
    "    table_string.append(x.to_html)\r\n",
    "\r\n",
    "    \r\n"
   ],
   "outputs": [],
   "metadata": {}
  },
  {
   "cell_type": "markdown",
   "source": [
    "### Mars Hemispheres"
   ],
   "metadata": {}
  },
  {
   "cell_type": "code",
   "execution_count": 24,
   "source": [
    "#Append the dictionary with the image url string and the hemisphere title to a list. This list will contain one dictionary for each hemisphere.\r\n",
    "data = []\r\n",
    "\r\n",
    "url = \"https://marshemispheres.com\"\r\n",
    "browser.visit(url)\r\n",
    "html = browser.html\r\n",
    "bs = BeautifulSoup(html, \"html.parser\")\r\n",
    "links = bs.select('.description>a')\r\n",
    "for link in links:\r\n",
    "    title = link.get_text()\r\n",
    "    href=link[\"href\"]\r\n",
    "    browser.visit(url+\"/\"+ href)\r\n",
    "    html1 = browser.html\r\n",
    "    details_page = BeautifulSoup(html1, \"html.parser\")\r\n",
    "    full_image = details_page.select_one('img.wide-image')\r\n",
    "    data.append({\r\n",
    "        \"title\": title, \r\n",
    "        \"img_url\": url + \"/\" + full_image[\"src\"]\r\n",
    "    })\r\n",
    "print(data)"
   ],
   "outputs": [
    {
     "output_type": "stream",
     "name": "stdout",
     "text": [
      "[{'title': '\\nCerberus Hemisphere Enhanced\\n', 'img_url': 'https://marshemispheres.com/images/f5e372a36edfa389625da6d0cc25d905_cerberus_enhanced.tif_full.jpg'}, {'title': '\\nSchiaparelli Hemisphere Enhanced\\n', 'img_url': 'https://marshemispheres.com/images/3778f7b43bbbc89d6e3cfabb3613ba93_schiaparelli_enhanced.tif_full.jpg'}, {'title': '\\nSyrtis Major Hemisphere Enhanced\\n', 'img_url': 'https://marshemispheres.com/images/555e6403a6ddd7ba16ddb0e471cadcf7_syrtis_major_enhanced.tif_full.jpg'}, {'title': '\\nValles Marineris Hemisphere Enhanced\\n', 'img_url': 'https://marshemispheres.com/images/b3c7c6c9138f57b4756be9b9c43e3a48_valles_marineris_enhanced.tif_full.jpg'}]\n"
     ]
    }
   ],
   "metadata": {}
  },
  {
   "cell_type": "code",
   "execution_count": null,
   "source": [],
   "outputs": [],
   "metadata": {}
  }
 ],
 "metadata": {
  "kernelspec": {
   "display_name": "Python 3",
   "language": "python",
   "name": "python3"
  },
  "language_info": {
   "codemirror_mode": {
    "name": "ipython",
    "version": 3
   },
   "file_extension": ".py",
   "mimetype": "text/x-python",
   "name": "python",
   "nbconvert_exporter": "python",
   "pygments_lexer": "ipython3",
   "version": "3.8.5"
  }
 },
 "nbformat": 4,
 "nbformat_minor": 4
}