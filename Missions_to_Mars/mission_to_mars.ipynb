{
 "cells": [
  {
   "cell_type": "code",
   "execution_count": 1,
   "metadata": {},
   "outputs": [],
   "source": [
    "#Import dependencies and setup\n",
    "from bs4 import BeautifulSoup\n",
    "from splinter import Browser\n",
    "import pandas as pd"
   ]
  },
  {
   "cell_type": "code",
   "execution_count": 2,
   "metadata": {},
   "outputs": [],
   "source": [
    "#Chrome driver set up\n",
    "\n",
    "executable_path = {\"executable_path\":\"driver\\chromedriver.exe\"}\n",
    "browser = Browser(\"chrome\", **executable_path, headless=False)"
   ]
  },
  {
   "cell_type": "code",
   "execution_count": 3,
   "metadata": {},
   "outputs": [],
   "source": [
    "#Connecting to NASA site\n",
    "url = \"https://redplanetscience.com\"\n",
    "browser.visit(url)"
   ]
  },
  {
   "cell_type": "code",
   "execution_count": null,
   "metadata": {},
   "outputs": [],
   "source": []
  },
  {
   "cell_type": "code",
   "execution_count": 4,
   "metadata": {},
   "outputs": [],
   "source": [
    "# Parse Results HTML with BeautifulSoup\n",
    "\n",
    "html = browser.html\n",
    "news = BeautifulSoup(html, \"html.parser\")"
   ]
  },
  {
   "cell_type": "markdown",
   "metadata": {},
   "source": [
    "### NASA Mars News"
   ]
  },
  {
   "cell_type": "code",
   "execution_count": 5,
   "metadata": {},
   "outputs": [
    {
     "name": "stdout",
     "output_type": "stream",
     "text": [
      "The agency's newest rover will use the first ground-penetrating radar instrument on the Martian surface to help search for signs of past microbial life. \n"
     ]
    }
   ],
   "source": [
    "# let's get the news title and paragraph \n",
    "news_title = news.select_one('.col-md-8 .content_title').get_text()\n",
    "news_p = news.select_one('.col-md-8 .article_teaser_body').get_text()\n",
    "print(news_p)"
   ]
  },
  {
   "cell_type": "markdown",
   "metadata": {},
   "source": [
    "### JPL Mars Space Images - Featured Image"
   ]
  },
  {
   "cell_type": "code",
   "execution_count": 7,
   "metadata": {},
   "outputs": [
    {
     "name": "stdout",
     "output_type": "stream",
     "text": [
      "https://spaceimages-mars.com/image/featured/mars3.jpg\n"
     ]
    }
   ],
   "source": [
    "# get the feature image\n",
    "url = \"https://spaceimages-mars.com\"\n",
    "browser.visit(url)\n",
    "\n",
    "html = browser.html\n",
    "images = BeautifulSoup(html, \"html.parser\")\n",
    "\n",
    "featured_image = url+\"/\"+ images.select_one('.headerimage')[\"src\"]\n",
    "print(featured_image)"
   ]
  },
  {
   "cell_type": "markdown",
   "metadata": {},
   "source": [
    "### Mars Facts"
   ]
  },
  {
   "cell_type": "code",
   "execution_count": null,
   "metadata": {},
   "outputs": [],
   "source": [
    "#Use Pandas to convert the data to a HTML table string\n",
    "\n",
    "url = \"https://galaxyfacts-mars.com\"\n",
    "df_list = pd.read_html(url)\n",
    "table= df_list\n",
    "for x in df_list:\n",
    "    print(x.to_html())\n",
    "    \n"
   ]
  },
  {
   "cell_type": "markdown",
   "metadata": {},
   "source": [
    "### Mars Hemispheres"
   ]
  },
  {
   "cell_type": "code",
   "execution_count": 24,
   "metadata": {},
   "outputs": [
    {
     "name": "stdout",
     "output_type": "stream",
     "text": [
      "[{'title': '\\nCerberus Hemisphere Enhanced\\n', 'img_url': 'https://marshemispheres.com/images/f5e372a36edfa389625da6d0cc25d905_cerberus_enhanced.tif_full.jpg'}, {'title': '\\nSchiaparelli Hemisphere Enhanced\\n', 'img_url': 'https://marshemispheres.com/images/3778f7b43bbbc89d6e3cfabb3613ba93_schiaparelli_enhanced.tif_full.jpg'}, {'title': '\\nSyrtis Major Hemisphere Enhanced\\n', 'img_url': 'https://marshemispheres.com/images/555e6403a6ddd7ba16ddb0e471cadcf7_syrtis_major_enhanced.tif_full.jpg'}, {'title': '\\nValles Marineris Hemisphere Enhanced\\n', 'img_url': 'https://marshemispheres.com/images/b3c7c6c9138f57b4756be9b9c43e3a48_valles_marineris_enhanced.tif_full.jpg'}]\n"
     ]
    }
   ],
   "source": [
    "#Append the dictionary with the image url string and the hemisphere title to a list. This list will contain one dictionary for each hemisphere.\n",
    "data = []\n",
    "\n",
    "url = \"https://marshemispheres.com\"\n",
    "browser.visit(url)\n",
    "html = browser.html\n",
    "bs = BeautifulSoup(html, \"html.parser\")\n",
    "links = bs.select('.description>a')\n",
    "for link in links:\n",
    "    title = link.get_text()\n",
    "    href=link[\"href\"]\n",
    "    browser.visit(url+\"/\"+ href)\n",
    "    html1 = browser.html\n",
    "    details_page = BeautifulSoup(html1, \"html.parser\")\n",
    "    full_image = details_page.select_one('img.wide-image')\n",
    "    data.append({\n",
    "        \"title\": title, \n",
    "        \"img_url\": url + \"/\" + full_image[\"src\"]\n",
    "    })\n",
    "print(data)"
   ]
  },
  {
   "cell_type": "code",
   "execution_count": null,
   "metadata": {},
   "outputs": [],
   "source": []
  }
 ],
 "metadata": {
  "kernelspec": {
   "display_name": "Python 3",
   "language": "python",
   "name": "python3"
  },
  "language_info": {
   "codemirror_mode": {
    "name": "ipython",
    "version": 3
   },
   "file_extension": ".py",
   "mimetype": "text/x-python",
   "name": "python",
   "nbconvert_exporter": "python",
   "pygments_lexer": "ipython3",
   "version": "3.8.5"
  }
 },
 "nbformat": 4,
 "nbformat_minor": 4
}
